{
 "cells": [
  {
   "cell_type": "markdown",
   "metadata": {},
   "source": [
    "# re module\n",
    "#### The re module in Python provides functions for working with regular expressions. Regular expressions are text patterns that allow you to search, match, extract, and manipulate strings based on specific rules.\n"
   ]
  },
  {
   "cell_type": "code",
   "execution_count": 2,
   "metadata": {},
   "outputs": [
    {
     "name": "stdout",
     "output_type": "stream",
     "text": [
      "<re.Match object; span=(3, 6), match='abc'>\n",
      "<re.Match object; span=(12, 15), match='abc'>\n"
     ]
    }
   ],
   "source": [
    "import re\n",
    "\n",
    "# TODO i want to search for abc\n",
    "test_string = '123abc456789abc123ABC'\n",
    "\n",
    "# now we made to use re.compile to search for abc\n",
    "pattern = re.compile(r\"abc\")\n",
    "# apply the pattern to the test_string\n",
    "matches = pattern.finditer(test_string) \n",
    "for match in matches:\n",
    "    print(match)\n"
   ]
  },
  {
   "cell_type": "code",
   "execution_count": 3,
   "metadata": {},
   "outputs": [
    {
     "name": "stdout",
     "output_type": "stream",
     "text": [
      "<re.Match object; span=(3, 6), match='abc'>\n",
      "<re.Match object; span=(12, 15), match='abc'>\n"
     ]
    }
   ],
   "source": [
    "# or we can use it directly in finditer\n",
    "matches = re.finditer(r\"abc\",test_string)\n",
    "\n",
    "for match in matches:\n",
    "    print(match)"
   ]
  },
  {
   "cell_type": "code",
   "execution_count": 4,
   "metadata": {},
   "outputs": [
    {
     "name": "stdout",
     "output_type": "stream",
     "text": [
      "\t Hello\n"
     ]
    }
   ],
   "source": [
    "# why we use r before the string here it will print and compile the \\t to a tab\n",
    "a = \"\\t Hello\"\n",
    "print(a)"
   ]
  },
  {
   "cell_type": "code",
   "execution_count": 5,
   "metadata": {},
   "outputs": [
    {
     "name": "stdout",
     "output_type": "stream",
     "text": [
      "\\t Hello\n"
     ]
    }
   ],
   "source": [
    "# Here it will be understood as a raw text\n",
    "a = r\"\\t Hello\"\n",
    "print(a)"
   ]
  },
  {
   "cell_type": "markdown",
   "metadata": {},
   "source": [
    "### findall()\n",
    "to find all the strings you are looking for"
   ]
  },
  {
   "cell_type": "code",
   "execution_count": 6,
   "metadata": {},
   "outputs": [
    {
     "name": "stdout",
     "output_type": "stream",
     "text": [
      "abc\n",
      "abc\n"
     ]
    }
   ],
   "source": [
    "test_string = '123abc456789abc123ABC'\n",
    "\n",
    "# now we made to use re.compile to search for abc\n",
    "pattern = re.compile(r\"abc\")\n",
    "# apply the pattern to the test_string\n",
    "matches = pattern.findall(test_string) \n",
    "for match in matches:\n",
    "    print(match)"
   ]
  },
  {
   "cell_type": "markdown",
   "metadata": {},
   "source": [
    "### match()\n",
    "looking for the pattern in the begining of the string"
   ]
  },
  {
   "cell_type": "code",
   "execution_count": 9,
   "metadata": {},
   "outputs": [
    {
     "name": "stdout",
     "output_type": "stream",
     "text": [
      "None\n"
     ]
    }
   ],
   "source": [
    "test_string = '123abc456789abc123ABC'\n",
    "\n",
    "# now we made to use re.compile to search for abc\n",
    "pattern = re.compile(r\"abc\")\n",
    "# apply the pattern to the test_string\n",
    "matches = pattern.match(test_string) \n",
    "print(matches)"
   ]
  },
  {
   "cell_type": "code",
   "execution_count": 10,
   "metadata": {},
   "outputs": [
    {
     "name": "stdout",
     "output_type": "stream",
     "text": [
      "<re.Match object; span=(0, 3), match='123'>\n"
     ]
    }
   ],
   "source": [
    "test_string = '123abc456789abc123ABC'\n",
    "\n",
    "# now we made to use re.compile to search for abc\n",
    "pattern = re.compile(r\"123\")\n",
    "# apply the pattern to the test_string\n",
    "matches = pattern.match(test_string) \n",
    "print(matches)\n",
    "# because it's in the begining"
   ]
  },
  {
   "cell_type": "markdown",
   "metadata": {},
   "source": [
    "### search()\n",
    "searches for the first match"
   ]
  },
  {
   "cell_type": "code",
   "execution_count": 12,
   "metadata": {},
   "outputs": [
    {
     "name": "stdout",
     "output_type": "stream",
     "text": [
      "<re.Match object; span=(3, 6), match='abc'>\n"
     ]
    }
   ],
   "source": [
    "test_string = '123abc456789abc123ABC'\n",
    "\n",
    "# now we made to use re.compile to search for abc\n",
    "pattern = re.compile(r\"abc\")\n",
    "# apply the pattern to the test_string\n",
    "matches = pattern.search(test_string) \n",
    "print(matches)"
   ]
  },
  {
   "cell_type": "markdown",
   "metadata": {},
   "source": [
    "### span()\n",
    "get the first index and last index appear"
   ]
  },
  {
   "cell_type": "code",
   "execution_count": 14,
   "metadata": {},
   "outputs": [
    {
     "name": "stdout",
     "output_type": "stream",
     "text": [
      "(3, 6) 3 6\n",
      "(12, 15) 12 15\n"
     ]
    }
   ],
   "source": [
    "test_string = '123abc456789abc123ABC'\n",
    "\n",
    "# now we made to use re.compile to search for abc\n",
    "pattern = re.compile(r\"abc\")\n",
    "# apply the pattern to the test_string\n",
    "matches = pattern.finditer(test_string) \n",
    "for match in matches:\n",
    "    # prints the first element match and the second one\n",
    "    print(match.span(),match.start(),match.end())\n"
   ]
  },
  {
   "cell_type": "markdown",
   "metadata": {},
   "source": [
    "### group()"
   ]
  },
  {
   "cell_type": "code",
   "execution_count": 15,
   "metadata": {},
   "outputs": [
    {
     "name": "stdout",
     "output_type": "stream",
     "text": [
      "abc\n",
      "abc\n"
     ]
    }
   ],
   "source": [
    "test_string = '123abc456789abc123ABC'\n",
    "\n",
    "# now we made to use re.compile to search for abc\n",
    "pattern = re.compile(r\"abc\")\n",
    "# apply the pattern to the test_string\n",
    "matches = pattern.finditer(test_string) \n",
    "for match in matches:\n",
    "    # prints the first element match and the second one\n",
    "    print(match.group())"
   ]
  },
  {
   "cell_type": "markdown",
   "metadata": {},
   "source": [
    "# Meta character\n",
    "\n",
    ". Any character (except new line character)\n",
    "\n",
    "^ Starts with \"^hello\"\n",
    "\n",
    "\\$ Ends with \"world$\"\n",
    "\n",
    "\\* Zero or more occurrences \"aix*\"\n",
    "\n",
    "\\+  One or more occurrences \"aix+\"\n",
    "\n",
    "{ } Exactly the specified number of occurrences \"al{2}\"\n",
    "\n",
    "[ ] A set of characters \"[a-m]\"\n",
    "\n",
    "\\ Special sequence (or escape special characters) \"\\d\"\n",
    "\n",
    "| Either or \"falls|stays\"\n",
    "\n",
    "( ) Capture and group"
   ]
  },
  {
   "cell_type": "code",
   "execution_count": 16,
   "metadata": {},
   "outputs": [
    {
     "name": "stdout",
     "output_type": "stream",
     "text": [
      "1\n",
      "2\n",
      "3\n",
      "a\n",
      "b\n",
      "c\n",
      "4\n",
      "5\n",
      "6\n",
      "7\n",
      "8\n",
      "9\n",
      "a\n",
      "b\n",
      "c\n",
      "1\n",
      "2\n",
      "3\n",
      "A\n",
      "B\n",
      "C\n"
     ]
    }
   ],
   "source": [
    "# . Any character (except new line character)\n",
    "test_string = '123abc456789abc123ABC'\n",
    "\n",
    "# now we made to use re.compile to search for abc\n",
    "pattern = re.compile(r\".\")\n",
    "# apply the pattern to the test_string\n",
    "matches = pattern.finditer(test_string) \n",
    "for match in matches:\n",
    "    # prints the first element match and the second one\n",
    "    print(match.group())"
   ]
  },
  {
   "cell_type": "code",
   "execution_count": 22,
   "metadata": {},
   "outputs": [
    {
     "name": "stdout",
     "output_type": "stream",
     "text": [
      "<re.Match object; span=(21, 22), match='.'>\n"
     ]
    }
   ],
   "source": [
    "\n",
    "test_string = '123abc456789abc123ABC.'\n",
    "\n",
    "# if we want to search for the . it self we put \\ befor it\n",
    "pattern = re.compile(r\"\\.\")\n",
    "# apply the pattern to the test_string\n",
    "matches = pattern.finditer(test_string) \n",
    "for match in matches:\n",
    "    print(match)\n",
    "  "
   ]
  },
  {
   "cell_type": "code",
   "execution_count": 23,
   "metadata": {},
   "outputs": [
    {
     "name": "stdout",
     "output_type": "stream",
     "text": [
      "<re.Match object; span=(0, 3), match='123'>\n"
     ]
    }
   ],
   "source": [
    "# ^ Starts with any pattern I choose\n",
    "test_string = '123abc456789abc123ABC'\n",
    "\n",
    "# now we made to use re.compile to search for abc\n",
    "pattern = re.compile(r\"^123\")\n",
    "# apply the pattern to the test_string\n",
    "matches = pattern.finditer(test_string) \n",
    "for match in matches:\n",
    "    # prints the first element match and the second one\n",
    "    print(match)"
   ]
  },
  {
   "cell_type": "code",
   "execution_count": 24,
   "metadata": {},
   "outputs": [],
   "source": [
    "# $ Ends with any pattern I choose\n",
    "test_string = '123abc456789abc123ABC'\n",
    "\n",
    "# now we made to use re.compile to search for abc \n",
    "# ! case sensetive abc != ABC\n",
    "pattern = re.compile(r\"abc$\")\n",
    "# apply the pattern to the test_string\n",
    "matches = pattern.finditer(test_string) \n",
    "for match in matches:\n",
    "    # prints the first element match and the second one\n",
    "    print(match)"
   ]
  },
  {
   "cell_type": "code",
   "execution_count": 25,
   "metadata": {},
   "outputs": [
    {
     "name": "stdout",
     "output_type": "stream",
     "text": [
      "<re.Match object; span=(18, 21), match='ABC'>\n"
     ]
    }
   ],
   "source": [
    "# $ Ends with any pattern I choose\n",
    "test_string = '123abc456789abc123ABC'\n",
    "\n",
    "# now we made to use re.compile to search for abc\n",
    "pattern = re.compile(r\"ABC$\")\n",
    "# apply the pattern to the test_string\n",
    "matches = pattern.finditer(test_string) \n",
    "for match in matches:\n",
    "    # prints the first element match and the second one\n",
    "    print(match)"
   ]
  },
  {
   "cell_type": "markdown",
   "metadata": {},
   "source": [
    "# More special characters:\n",
    "##### \\d : Matches any decimal digit; [0-9]\n",
    "\n",
    "##### \\D : Matches any non-digit character;\n",
    "\n",
    "##### \\s : Matches any whitespace character; (space \" \", tab \"\\t\", newline \"\\n\")\n",
    "\n",
    "##### \\S : Matches any non-whitespace character;\n",
    "\n",
    "##### \\w : Matches any alphanumeric  (word) character [a-zA-Z0-9_];\n",
    "\n",
    "##### \\W : Matches any non-alphanumeric\n",
    "\n",
    "##### \\b : Matches where the specified characters are at the beginning or at the end of a word r\"\\bain\" , r\"ain\\b\"\n",
    "\n",
    "##### \\B : Matches where the specified characters are present, but NOT at the beginning of a word (or at the end) of a word r\"\\Bain\" , r\"ain\\B\""
   ]
  },
  {
   "cell_type": "code",
   "execution_count": 26,
   "metadata": {},
   "outputs": [
    {
     "name": "stdout",
     "output_type": "stream",
     "text": [
      "<re.Match object; span=(6, 7), match='1'>\n",
      "<re.Match object; span=(7, 8), match='2'>\n",
      "<re.Match object; span=(8, 9), match='3'>\n"
     ]
    }
   ],
   "source": [
    "# \\d : Matches any decimal digit; [0-9]\n",
    "test_string = 'hello 123_ heyho hohey'\n",
    "pattern = re.compile(r\"\\d\")\n",
    "matches = pattern.finditer(test_string)\n",
    "\n",
    "for match in matches:\n",
    "    print(match)"
   ]
  },
  {
   "cell_type": "code",
   "execution_count": 27,
   "metadata": {},
   "outputs": [
    {
     "name": "stdout",
     "output_type": "stream",
     "text": [
      "<re.Match object; span=(0, 1), match='h'>\n",
      "<re.Match object; span=(1, 2), match='e'>\n",
      "<re.Match object; span=(2, 3), match='l'>\n",
      "<re.Match object; span=(3, 4), match='l'>\n",
      "<re.Match object; span=(4, 5), match='o'>\n",
      "<re.Match object; span=(5, 6), match=' '>\n",
      "<re.Match object; span=(9, 10), match='_'>\n",
      "<re.Match object; span=(10, 11), match=' '>\n",
      "<re.Match object; span=(11, 12), match='h'>\n",
      "<re.Match object; span=(12, 13), match='e'>\n",
      "<re.Match object; span=(13, 14), match='y'>\n",
      "<re.Match object; span=(14, 15), match='h'>\n",
      "<re.Match object; span=(15, 16), match='o'>\n",
      "<re.Match object; span=(16, 17), match=' '>\n",
      "<re.Match object; span=(17, 18), match='h'>\n",
      "<re.Match object; span=(18, 19), match='o'>\n",
      "<re.Match object; span=(19, 20), match='h'>\n",
      "<re.Match object; span=(20, 21), match='e'>\n",
      "<re.Match object; span=(21, 22), match='y'>\n"
     ]
    }
   ],
   "source": [
    "# \\D : Matches any decimal digit; [0-9]\n",
    "test_string = 'hello 123_ heyho hohey'\n",
    "pattern = re.compile(r\"\\D\")\n",
    "matches = pattern.finditer(test_string)\n",
    "\n",
    "for match in matches:\n",
    "    print(match)"
   ]
  },
  {
   "cell_type": "code",
   "execution_count": 18,
   "metadata": {},
   "outputs": [
    {
     "name": "stdout",
     "output_type": "stream",
     "text": [
      "<re.Match object; span=(5, 6), match=' '>\n",
      "<re.Match object; span=(10, 11), match=' '>\n",
      "<re.Match object; span=(16, 17), match=' '>\n"
     ]
    }
   ],
   "source": [
    "# \\s : Matches any whitespace character; (space \" \", tab \"\\t\", newline \"\\n\")\n",
    "test_string = 'hello 123_ heyho hohey'\n",
    "\n",
    "pattern = re.compile(r\"\\s\")\n",
    "matches = pattern.finditer(test_string)\n",
    "\n",
    "for match in matches:\n",
    "    print(match)"
   ]
  },
  {
   "cell_type": "code",
   "execution_count": 29,
   "metadata": {},
   "outputs": [
    {
     "name": "stdout",
     "output_type": "stream",
     "text": [
      "<re.Match object; span=(0, 1), match='h'>\n",
      "<re.Match object; span=(1, 2), match='e'>\n",
      "<re.Match object; span=(2, 3), match='l'>\n",
      "<re.Match object; span=(3, 4), match='l'>\n",
      "<re.Match object; span=(4, 5), match='o'>\n",
      "<re.Match object; span=(6, 7), match='1'>\n",
      "<re.Match object; span=(7, 8), match='2'>\n",
      "<re.Match object; span=(8, 9), match='3'>\n",
      "<re.Match object; span=(9, 10), match='_'>\n",
      "<re.Match object; span=(11, 12), match='h'>\n",
      "<re.Match object; span=(12, 13), match='e'>\n",
      "<re.Match object; span=(13, 14), match='y'>\n",
      "<re.Match object; span=(14, 15), match='h'>\n",
      "<re.Match object; span=(15, 16), match='o'>\n",
      "<re.Match object; span=(17, 18), match='h'>\n",
      "<re.Match object; span=(18, 19), match='o'>\n",
      "<re.Match object; span=(19, 20), match='h'>\n",
      "<re.Match object; span=(20, 21), match='e'>\n",
      "<re.Match object; span=(21, 22), match='y'>\n"
     ]
    }
   ],
   "source": [
    "# \\S : Matches any non-whitespace character;\n",
    "test_string = 'hello 123_ heyho hohey'\n",
    "\n",
    "pattern = re.compile(r\"\\S\")\n",
    "matches = pattern.finditer(test_string)\n",
    "\n",
    "for match in matches:\n",
    "    print(match)"
   ]
  },
  {
   "cell_type": "code",
   "execution_count": 30,
   "metadata": {},
   "outputs": [
    {
     "name": "stdout",
     "output_type": "stream",
     "text": [
      "<re.Match object; span=(0, 1), match='h'>\n",
      "<re.Match object; span=(1, 2), match='e'>\n",
      "<re.Match object; span=(2, 3), match='l'>\n",
      "<re.Match object; span=(3, 4), match='l'>\n",
      "<re.Match object; span=(4, 5), match='o'>\n",
      "<re.Match object; span=(6, 7), match='1'>\n",
      "<re.Match object; span=(7, 8), match='2'>\n",
      "<re.Match object; span=(8, 9), match='3'>\n",
      "<re.Match object; span=(9, 10), match='_'>\n",
      "<re.Match object; span=(11, 12), match='h'>\n",
      "<re.Match object; span=(12, 13), match='e'>\n",
      "<re.Match object; span=(13, 14), match='y'>\n",
      "<re.Match object; span=(14, 15), match='h'>\n",
      "<re.Match object; span=(15, 16), match='o'>\n",
      "<re.Match object; span=(17, 18), match='h'>\n",
      "<re.Match object; span=(18, 19), match='o'>\n",
      "<re.Match object; span=(19, 20), match='h'>\n",
      "<re.Match object; span=(20, 21), match='e'>\n",
      "<re.Match object; span=(21, 22), match='y'>\n"
     ]
    }
   ],
   "source": [
    "# \\w : Matches any alphanumeric  (word) character [a-zA-Z0-9_];\n",
    "test_string = 'hello 123_ heyho hohey'\n",
    "\n",
    "pattern = re.compile(r\"\\w\")\n",
    "matches = pattern.finditer(test_string)\n",
    "\n",
    "for match in matches:\n",
    "    print(match)"
   ]
  },
  {
   "cell_type": "code",
   "execution_count": 32,
   "metadata": {},
   "outputs": [
    {
     "name": "stdout",
     "output_type": "stream",
     "text": [
      "<re.Match object; span=(5, 6), match=' '>\n",
      "<re.Match object; span=(10, 11), match=' '>\n",
      "<re.Match object; span=(16, 17), match=' '>\n"
     ]
    }
   ],
   "source": [
    "##### \\W : Matches any non-alphanumeric\n",
    "test_string = 'hello 123_ heyho hohey'\n",
    "\n",
    "pattern = re.compile(r\"\\W\")\n",
    "matches = pattern.finditer(test_string)\n",
    "\n",
    "for match in matches:\n",
    "    print(match)"
   ]
  },
  {
   "cell_type": "code",
   "execution_count": 33,
   "metadata": {},
   "outputs": [
    {
     "name": "stdout",
     "output_type": "stream",
     "text": [
      "<re.Match object; span=(0, 5), match='hello'>\n"
     ]
    }
   ],
   "source": [
    "# \\b : Matches where the specified characters are at the beginning or at the end of a word block including white spaces  r\"\\bain\" , r\"ain\\b\"\n",
    "# any beginning of a word after white space\n",
    "test_string = 'hello 123_ heyho hohey'\n",
    "\n",
    "pattern = re.compile(r\"\\bhello\")\n",
    "matches = pattern.finditer(test_string)\n",
    "\n",
    "for match in matches:\n",
    "    print(match)"
   ]
  },
  {
   "cell_type": "code",
   "execution_count": 34,
   "metadata": {},
   "outputs": [
    {
     "name": "stdout",
     "output_type": "stream",
     "text": [
      "<re.Match object; span=(11, 14), match='hey'>\n"
     ]
    }
   ],
   "source": [
    "test_string = 'hello 123_ heyho hohey'\n",
    "\n",
    "pattern = re.compile(r\"\\bhey\")\n",
    "matches = pattern.finditer(test_string)\n",
    "\n",
    "for match in matches:\n",
    "    print(match)"
   ]
  },
  {
   "cell_type": "code",
   "execution_count": 36,
   "metadata": {},
   "outputs": [
    {
     "name": "stdout",
     "output_type": "stream",
     "text": [
      "<re.Match object; span=(19, 22), match='hey'>\n"
     ]
    }
   ],
   "source": [
    "# \\B : Matches where the specified characters are present, but NOT at the beginning of a word (or at the end) of a word r\"\\Bain\" , r\"ain\\B\"\n",
    "test_string = 'hello 123_ heyho hoheys'\n",
    "\n",
    "pattern = re.compile(r\"\\Bhey\")\n",
    "matches = pattern.finditer(test_string)\n",
    "\n",
    "for match in matches:\n",
    "    print(match)"
   ]
  },
  {
   "cell_type": "code",
   "execution_count": 38,
   "metadata": {},
   "outputs": [
    {
     "name": "stdout",
     "output_type": "stream",
     "text": [
      "<re.Match object; span=(2, 3), match='l'>\n",
      "<re.Match object; span=(3, 4), match='l'>\n",
      "<re.Match object; span=(4, 5), match='o'>\n"
     ]
    }
   ],
   "source": [
    "# A set of characters \"[a-m]\"\n",
    "# search for a single characters in a set\n",
    "test_string = 'hello 123_'\n",
    "\n",
    "pattern = re.compile(r'[lo]')\n",
    "matches = pattern.finditer(test_string)\n",
    "for match in matches:\n",
    "    print(match)"
   ]
  },
  {
   "cell_type": "code",
   "execution_count": 39,
   "metadata": {},
   "outputs": [
    {
     "name": "stdout",
     "output_type": "stream",
     "text": [
      "<re.Match object; span=(0, 1), match='h'>\n",
      "<re.Match object; span=(1, 2), match='e'>\n",
      "<re.Match object; span=(2, 3), match='l'>\n",
      "<re.Match object; span=(3, 4), match='l'>\n",
      "<re.Match object; span=(4, 5), match='o'>\n"
     ]
    }
   ],
   "source": [
    "test_string = 'hello 123_'\n",
    "\n",
    "pattern = re.compile(r'[helo]')\n",
    "matches = pattern.finditer(test_string)\n",
    "for match in matches:\n",
    "    print(match)"
   ]
  },
  {
   "cell_type": "code",
   "execution_count": 40,
   "metadata": {},
   "outputs": [
    {
     "name": "stdout",
     "output_type": "stream",
     "text": [
      "<re.Match object; span=(0, 1), match='h'>\n",
      "<re.Match object; span=(1, 2), match='e'>\n",
      "<re.Match object; span=(2, 3), match='l'>\n",
      "<re.Match object; span=(3, 4), match='l'>\n",
      "<re.Match object; span=(4, 5), match='o'>\n"
     ]
    }
   ],
   "source": [
    "test_string = 'hello 123_'\n",
    "# search for a range of character in a string\n",
    "pattern = re.compile(r'[a-z]')\n",
    "matches = pattern.finditer(test_string)\n",
    "for match in matches:\n",
    "    print(match)"
   ]
  },
  {
   "cell_type": "code",
   "execution_count": 41,
   "metadata": {},
   "outputs": [
    {
     "name": "stdout",
     "output_type": "stream",
     "text": [
      "<re.Match object; span=(6, 7), match='1'>\n",
      "<re.Match object; span=(7, 8), match='2'>\n",
      "<re.Match object; span=(8, 9), match='3'>\n"
     ]
    }
   ],
   "source": [
    "test_string = 'hello 123_'\n",
    "# search for a range of numbers in a string\n",
    "pattern = re.compile(r'[0-9]')\n",
    "matches = pattern.finditer(test_string)\n",
    "for match in matches:\n",
    "    print(match)"
   ]
  },
  {
   "cell_type": "code",
   "execution_count": 43,
   "metadata": {},
   "outputs": [
    {
     "name": "stdout",
     "output_type": "stream",
     "text": [
      "<re.Match object; span=(6, 7), match='1'>\n",
      "<re.Match object; span=(7, 8), match='2'>\n",
      "<re.Match object; span=(8, 9), match='3'>\n",
      "<re.Match object; span=(9, 10), match='-'>\n"
     ]
    }
   ],
   "source": [
    "test_string = 'hello 123-_'\n",
    "# search for an actual - in a range\n",
    "pattern = re.compile(r'[0-9-]')\n",
    "matches = pattern.finditer(test_string)\n",
    "for match in matches:\n",
    "    print(match)"
   ]
  },
  {
   "cell_type": "code",
   "execution_count": 44,
   "metadata": {},
   "outputs": [
    {
     "name": "stdout",
     "output_type": "stream",
     "text": [
      "<re.Match object; span=(0, 1), match='h'>\n",
      "<re.Match object; span=(1, 2), match='e'>\n",
      "<re.Match object; span=(2, 3), match='l'>\n",
      "<re.Match object; span=(3, 4), match='l'>\n",
      "<re.Match object; span=(4, 5), match='o'>\n"
     ]
    }
   ],
   "source": [
    "test_string = 'helloHELLO 123_'\n",
    "# search for a range of character in a string (lower case)\n",
    "pattern = re.compile(r'[a-z]')\n",
    "matches = pattern.finditer(test_string)\n",
    "for match in matches:\n",
    "    print(match)"
   ]
  },
  {
   "cell_type": "code",
   "execution_count": 45,
   "metadata": {},
   "outputs": [
    {
     "name": "stdout",
     "output_type": "stream",
     "text": [
      "<re.Match object; span=(0, 1), match='h'>\n",
      "<re.Match object; span=(1, 2), match='e'>\n",
      "<re.Match object; span=(2, 3), match='l'>\n",
      "<re.Match object; span=(3, 4), match='l'>\n",
      "<re.Match object; span=(4, 5), match='o'>\n",
      "<re.Match object; span=(5, 6), match='H'>\n",
      "<re.Match object; span=(6, 7), match='E'>\n",
      "<re.Match object; span=(7, 8), match='L'>\n",
      "<re.Match object; span=(8, 9), match='L'>\n",
      "<re.Match object; span=(9, 10), match='O'>\n"
     ]
    }
   ],
   "source": [
    "test_string = 'helloHELLO 123_'\n",
    "# search for a range of character in a string (lower case & upper case)\n",
    "pattern = re.compile(r'[a-zA-Z]')\n",
    "matches = pattern.finditer(test_string)\n",
    "for match in matches:\n",
    "    print(match)"
   ]
  },
  {
   "cell_type": "code",
   "execution_count": 46,
   "metadata": {},
   "outputs": [
    {
     "name": "stdout",
     "output_type": "stream",
     "text": [
      "<re.Match object; span=(0, 1), match='h'>\n",
      "<re.Match object; span=(1, 2), match='e'>\n",
      "<re.Match object; span=(2, 3), match='l'>\n",
      "<re.Match object; span=(3, 4), match='l'>\n",
      "<re.Match object; span=(4, 5), match='o'>\n",
      "<re.Match object; span=(5, 6), match='H'>\n",
      "<re.Match object; span=(6, 7), match='E'>\n",
      "<re.Match object; span=(7, 8), match='L'>\n",
      "<re.Match object; span=(8, 9), match='L'>\n",
      "<re.Match object; span=(9, 10), match='O'>\n",
      "<re.Match object; span=(11, 12), match='1'>\n",
      "<re.Match object; span=(12, 13), match='2'>\n",
      "<re.Match object; span=(13, 14), match='3'>\n"
     ]
    }
   ],
   "source": [
    "test_string = 'helloHELLO 123_'\n",
    "# search for a range of character in a string (lower case & upper case & numbers) \n",
    "pattern = re.compile(r'[a-zA-Z0-9]')\n",
    "matches = pattern.finditer(test_string)\n",
    "for match in matches:\n",
    "    print(match)"
   ]
  },
  {
   "cell_type": "markdown",
   "metadata": {},
   "source": [
    "# Quantifier:\n",
    "\n",
    "##### \\* : 0 or more\n",
    "\n",
    "##### \\+ : 1 or more\n",
    "\n",
    "##### ? : 0 or 1 -> optional character\n",
    "\n",
    "##### {4} : exact number\n",
    "\n",
    "##### {4,6} : range of numbers (min, max)\n"
   ]
  },
  {
   "cell_type": "code",
   "execution_count": 48,
   "metadata": {},
   "outputs": [
    {
     "name": "stdout",
     "output_type": "stream",
     "text": [
      "<re.Match object; span=(0, 0), match=''>\n",
      "<re.Match object; span=(1, 1), match=''>\n",
      "<re.Match object; span=(2, 2), match=''>\n",
      "<re.Match object; span=(3, 3), match=''>\n",
      "<re.Match object; span=(4, 4), match=''>\n",
      "<re.Match object; span=(5, 5), match=''>\n",
      "<re.Match object; span=(6, 9), match='123'>\n",
      "<re.Match object; span=(9, 9), match=''>\n",
      "<re.Match object; span=(10, 10), match=''>\n",
      "<re.Match object; span=(11, 11), match=''>\n",
      "<re.Match object; span=(12, 12), match=''>\n",
      "<re.Match object; span=(13, 13), match=''>\n",
      "<re.Match object; span=(14, 14), match=''>\n",
      "<re.Match object; span=(15, 15), match=''>\n",
      "<re.Match object; span=(16, 16), match=''>\n",
      "<re.Match object; span=(17, 17), match=''>\n",
      "<re.Match object; span=(18, 18), match=''>\n",
      "<re.Match object; span=(19, 19), match=''>\n",
      "<re.Match object; span=(20, 20), match=''>\n",
      "<re.Match object; span=(21, 21), match=''>\n",
      "<re.Match object; span=(22, 22), match=''>\n"
     ]
    }
   ],
   "source": [
    "# \\d* : Matches any decimal digit; [0-9] and return them together not individual\n",
    "test_string = 'hello 123_ heyho hohey'\n",
    "pattern = re.compile(r\"\\d*\")\n",
    "matches = pattern.finditer(test_string)\n",
    "\n",
    "for match in matches:\n",
    "    print(match)"
   ]
  },
  {
   "cell_type": "code",
   "execution_count": 49,
   "metadata": {},
   "outputs": [
    {
     "name": "stdout",
     "output_type": "stream",
     "text": [
      "<re.Match object; span=(6, 7), match='1'>\n",
      "<re.Match object; span=(7, 8), match='2'>\n",
      "<re.Match object; span=(8, 9), match='3'>\n"
     ]
    }
   ],
   "source": [
    "test_string = 'hello 123_ heyho hohey'\n",
    "pattern = re.compile(r\"\\d\")\n",
    "matches = pattern.finditer(test_string)\n",
    "\n",
    "for match in matches:\n",
    "    print(match)"
   ]
  },
  {
   "cell_type": "code",
   "execution_count": 52,
   "metadata": {},
   "outputs": [
    {
     "name": "stdout",
     "output_type": "stream",
     "text": [
      "<re.Match object; span=(6, 8), match='_1'>\n"
     ]
    }
   ],
   "source": [
    "test_string = 'hello _123_ heyho hohey'\n",
    "pattern = re.compile(r\"_\\d\")\n",
    "matches = pattern.finditer(test_string)\n",
    "\n",
    "for match in matches:\n",
    "    print(match)"
   ]
  },
  {
   "cell_type": "code",
   "execution_count": 53,
   "metadata": {},
   "outputs": [
    {
     "name": "stdout",
     "output_type": "stream",
     "text": [
      "<re.Match object; span=(6, 8), match='_1'>\n",
      "<re.Match object; span=(8, 9), match='2'>\n",
      "<re.Match object; span=(9, 10), match='3'>\n"
     ]
    }
   ],
   "source": [
    "# ? : 0 or 1 -> optional character\n",
    "test_string = 'hello _123_ heyho hohey'\n",
    "pattern = re.compile(r\"_?\\d\")\n",
    "matches = pattern.finditer(test_string)\n",
    "\n",
    "for match in matches:\n",
    "    print(match)"
   ]
  },
  {
   "cell_type": "code",
   "execution_count": 55,
   "metadata": {},
   "outputs": [
    {
     "name": "stdout",
     "output_type": "stream",
     "text": [
      "<re.Match object; span=(7, 10), match='123'>\n"
     ]
    }
   ],
   "source": [
    "# {4} : exact number\n",
    "test_string = 'hello _123_ heyho hohey'\n",
    "pattern = re.compile(r\"\\d{3}\")\n",
    "matches = pattern.finditer(test_string)\n",
    "\n",
    "for match in matches:\n",
    "    print(match)"
   ]
  },
  {
   "cell_type": "code",
   "execution_count": 57,
   "metadata": {},
   "outputs": [
    {
     "name": "stdout",
     "output_type": "stream",
     "text": [
      "<re.Match object; span=(7, 10), match='123'>\n"
     ]
    }
   ],
   "source": [
    "# {4,6} : range of numbers (min, max)\n",
    "test_string = 'hello _123_ heyho hohey'\n",
    "pattern = re.compile(r\"\\d{1,3}\")\n",
    "matches = pattern.finditer(test_string)\n",
    "\n",
    "for match in matches:\n",
    "    print(match)"
   ]
  },
  {
   "cell_type": "code",
   "execution_count": 5,
   "metadata": {},
   "outputs": [
    {
     "name": "stdout",
     "output_type": "stream",
     "text": [
      "<re.Match object; span=(13, 23), match='2020.04.01'>\n",
      "<re.Match object; span=(25, 35), match='2020-04-01'>\n",
      "<re.Match object; span=(37, 47), match='2020-05-23'>\n",
      "<re.Match object; span=(49, 59), match='2020-06-11'>\n",
      "<re.Match object; span=(61, 71), match='2020-07-11'>\n",
      "<re.Match object; span=(73, 83), match='2020-08-11'>\n"
     ]
    },
    {
     "name": "stderr",
     "output_type": "stream",
     "text": [
      "<>:19: SyntaxWarning: invalid escape sequence '\\d'\n",
      "<>:19: SyntaxWarning: invalid escape sequence '\\d'\n",
      "C:\\Users\\ak958\\AppData\\Local\\Temp\\ipykernel_10484\\3330570846.py:19: SyntaxWarning: invalid escape sequence '\\d'\n",
      "  pattern = re.compile(\"\\d\\d\\d\\d.\\d\\d.\\d\\d\")\n"
     ]
    }
   ],
   "source": [
    "# we want to extract dates with - formate\n",
    "dates = \"\"\"\n",
    "01.04.2020\n",
    "\n",
    "2020.04.01\n",
    "\n",
    "2020-04-01\n",
    "\n",
    "2020-05-23\n",
    "\n",
    "2020-06-11\n",
    "\n",
    "2020-07-11\n",
    "\n",
    "2020-08-11\n",
    "\n",
    "\"\"\"\n",
    "\n",
    "pattern = re.compile(\"\\d\\d\\d\\d.\\d\\d.\\d\\d\")\n",
    "matches = pattern.finditer(dates)\n",
    "\n",
    "for match in matches:\n",
    "    print(match)"
   ]
  },
  {
   "cell_type": "code",
   "execution_count": 6,
   "metadata": {},
   "outputs": [
    {
     "name": "stdout",
     "output_type": "stream",
     "text": [
      "<re.Match object; span=(25, 35), match='2020-04-01'>\n",
      "<re.Match object; span=(37, 47), match='2020-05-23'>\n",
      "<re.Match object; span=(49, 59), match='2020-06-11'>\n",
      "<re.Match object; span=(61, 71), match='2020-07-11'>\n",
      "<re.Match object; span=(73, 83), match='2020-08-11'>\n"
     ]
    },
    {
     "name": "stderr",
     "output_type": "stream",
     "text": [
      "<>:19: SyntaxWarning: invalid escape sequence '\\d'\n",
      "<>:19: SyntaxWarning: invalid escape sequence '\\d'\n",
      "C:\\Users\\ak958\\AppData\\Local\\Temp\\ipykernel_10484\\2406106790.py:19: SyntaxWarning: invalid escape sequence '\\d'\n",
      "  pattern = re.compile(\"\\d\\d\\d\\d-\\d\\d-\\d\\d\")\n"
     ]
    }
   ],
   "source": [
    "# we want to extract dates with - formate\n",
    "dates = \"\"\"\n",
    "01.04.2020\n",
    "\n",
    "2020.04.01\n",
    "\n",
    "2020-04-01\n",
    "\n",
    "2020-05-23\n",
    "\n",
    "2020-06-11\n",
    "\n",
    "2020-07-11\n",
    "\n",
    "2020-08-11\n",
    "\n",
    "\"\"\"\n",
    "\n",
    "pattern = re.compile(\"\\d\\d\\d\\d-\\d\\d-\\d\\d\")\n",
    "matches = pattern.finditer(dates)\n",
    "\n",
    "for match in matches:\n",
    "    print(match)"
   ]
  },
  {
   "cell_type": "code",
   "execution_count": 10,
   "metadata": {},
   "outputs": [
    {
     "name": "stdout",
     "output_type": "stream",
     "text": [
      "<re.Match object; span=(25, 35), match='2020-04-01'>\n",
      "<re.Match object; span=(37, 47), match='2020-05-23'>\n",
      "<re.Match object; span=(49, 59), match='2020-06-11'>\n",
      "<re.Match object; span=(61, 71), match='2020-07-11'>\n",
      "<re.Match object; span=(73, 83), match='2020-08-11'>\n",
      "<re.Match object; span=(85, 95), match='2020/04/04'>\n"
     ]
    },
    {
     "name": "stderr",
     "output_type": "stream",
     "text": [
      "<>:25: SyntaxWarning: invalid escape sequence '\\d'\n",
      "<>:25: SyntaxWarning: invalid escape sequence '\\d'\n",
      "C:\\Users\\ak958\\AppData\\Local\\Temp\\ipykernel_10484\\4168209318.py:25: SyntaxWarning: invalid escape sequence '\\d'\n",
      "  pattern = re.compile(\"\\d\\d\\d\\d[-/]\\d\\d[-/]\\d\\d\")\n"
     ]
    }
   ],
   "source": [
    "# we want to extract dates with -/ formate\n",
    "dates = \"\"\"\n",
    "01.04.2020\n",
    "\n",
    "2020.04.01\n",
    "\n",
    "2020-04-01\n",
    "\n",
    "2020-05-23\n",
    "\n",
    "2020-06-11\n",
    "\n",
    "2020-07-11\n",
    "\n",
    "2020-08-11\n",
    "\n",
    "2020/04/04\n",
    "\n",
    "2020_04_04\n",
    "\n",
    "2020_04_04\n",
    "\n",
    "\"\"\"\n",
    "\n",
    "pattern = re.compile(\"\\d\\d\\d\\d[-/]\\d\\d[-/]\\d\\d\")\n",
    "matches = pattern.finditer(dates)\n",
    "\n",
    "for match in matches:\n",
    "    print(match)"
   ]
  },
  {
   "cell_type": "code",
   "execution_count": 15,
   "metadata": {},
   "outputs": [
    {
     "name": "stdout",
     "output_type": "stream",
     "text": [
      "<re.Match object; span=(37, 47), match='2020-05-23'>\n",
      "<re.Match object; span=(49, 59), match='2020-06-11'>\n"
     ]
    },
    {
     "name": "stderr",
     "output_type": "stream",
     "text": [
      "<>:25: SyntaxWarning: invalid escape sequence '\\d'\n",
      "<>:25: SyntaxWarning: invalid escape sequence '\\d'\n",
      "C:\\Users\\ak958\\AppData\\Local\\Temp\\ipykernel_10484\\751855880.py:25: SyntaxWarning: invalid escape sequence '\\d'\n",
      "  pattern = re.compile(\"\\d\\d\\d\\d[-/]0[56][-/]\\d\\d\")\n"
     ]
    }
   ],
   "source": [
    "# we want to extract dates 05 and 06\n",
    "dates = \"\"\"\n",
    "01.04.2020\n",
    "\n",
    "2020.04.01\n",
    "\n",
    "2020-04-01\n",
    "\n",
    "2020-05-23\n",
    "\n",
    "2020-06-11\n",
    "\n",
    "2020-07-11\n",
    "\n",
    "2020-08-11\n",
    "\n",
    "2020/04/04\n",
    "\n",
    "2020_04_04\n",
    "\n",
    "2020_04_04\n",
    "\n",
    "\"\"\"\n",
    "\n",
    "pattern = re.compile(\"\\d\\d\\d\\d[-/]0[56][-/]\\d\\d\")\n",
    "matches = pattern.finditer(dates)\n",
    "\n",
    "for match in matches:\n",
    "    print(match)"
   ]
  },
  {
   "cell_type": "code",
   "execution_count": 16,
   "metadata": {},
   "outputs": [
    {
     "name": "stdout",
     "output_type": "stream",
     "text": [
      "<re.Match object; span=(37, 47), match='2020-05-23'>\n",
      "<re.Match object; span=(49, 59), match='2020-06-11'>\n",
      "<re.Match object; span=(61, 71), match='2020-07-11'>\n"
     ]
    },
    {
     "name": "stderr",
     "output_type": "stream",
     "text": [
      "<>:25: SyntaxWarning: invalid escape sequence '\\d'\n",
      "<>:25: SyntaxWarning: invalid escape sequence '\\d'\n",
      "C:\\Users\\ak958\\AppData\\Local\\Temp\\ipykernel_10484\\690734346.py:25: SyntaxWarning: invalid escape sequence '\\d'\n",
      "  pattern = re.compile(\"\\d\\d\\d\\d[-/]0[5-7][-/]\\d\\d\")\n"
     ]
    }
   ],
   "source": [
    "# we want to extract dates 05 and 06 and 07\n",
    "dates = \"\"\"\n",
    "01.04.2020\n",
    "\n",
    "2020.04.01\n",
    "\n",
    "2020-04-01\n",
    "\n",
    "2020-05-23\n",
    "\n",
    "2020-06-11\n",
    "\n",
    "2020-07-11\n",
    "\n",
    "2020-08-11\n",
    "\n",
    "2020/04/04\n",
    "\n",
    "2020_04_04\n",
    "\n",
    "2020_04_04\n",
    "\n",
    "\"\"\"\n",
    "\n",
    "pattern = re.compile(\"\\d\\d\\d\\d[-/]0[5-7][-/]\\d\\d\")\n",
    "matches = pattern.finditer(dates)\n",
    "\n",
    "for match in matches:\n",
    "    print(match)"
   ]
  },
  {
   "cell_type": "code",
   "execution_count": 17,
   "metadata": {},
   "outputs": [
    {
     "name": "stdout",
     "output_type": "stream",
     "text": [
      "<re.Match object; span=(37, 47), match='2020-05-23'>\n",
      "<re.Match object; span=(49, 59), match='2020-06-11'>\n",
      "<re.Match object; span=(61, 71), match='2020-07-11'>\n"
     ]
    },
    {
     "name": "stderr",
     "output_type": "stream",
     "text": [
      "<>:25: SyntaxWarning: invalid escape sequence '\\d'\n",
      "<>:25: SyntaxWarning: invalid escape sequence '\\d'\n",
      "C:\\Users\\ak958\\AppData\\Local\\Temp\\ipykernel_10484\\1060350124.py:25: SyntaxWarning: invalid escape sequence '\\d'\n",
      "  pattern = re.compile(\"\\d{4}[-/]0[5-7][-/]\\d{2}\")\n"
     ]
    }
   ],
   "source": [
    "# another way to write the code for that\n",
    "dates = \"\"\"\n",
    "01.04.2020\n",
    "\n",
    "2020.04.01\n",
    "\n",
    "2020-04-01\n",
    "\n",
    "2020-05-23\n",
    "\n",
    "2020-06-11\n",
    "\n",
    "2020-07-11\n",
    "\n",
    "2020-08-11\n",
    "\n",
    "2020/04/04\n",
    "\n",
    "2020_04_04\n",
    "\n",
    "2020_04_04\n",
    "\n",
    "\"\"\"\n",
    "\n",
    "pattern = re.compile(\"\\d{4}[-/]0[5-7][-/]\\d{2}\")\n",
    "matches = pattern.finditer(dates)\n",
    "\n",
    "for match in matches:\n",
    "    print(match)"
   ]
  },
  {
   "cell_type": "markdown",
   "metadata": {},
   "source": [
    "# Conditions"
   ]
  },
  {
   "cell_type": "code",
   "execution_count": 20,
   "metadata": {},
   "outputs": [
    {
     "name": "stdout",
     "output_type": "stream",
     "text": [
      "<re.Match object; span=(28, 38), match='Mr Simpson'>\n"
     ]
    }
   ],
   "source": [
    "# matching a specific pattern\n",
    "my_string = \"\"\"\n",
    "hello world\n",
    "123\n",
    "2020-05-20\n",
    "Mr Simpson\n",
    "Mrs Simpson\n",
    "Mr. Brown\n",
    "Ms Smith\n",
    "Mr.T\n",
    "\"\"\"\n",
    "# matching a specific pattern look here\n",
    "# \\s : Matches any whitespace character; (space \" \", tab \"\\t\", newline \"\\n\")\n",
    "# \\w : Matches any alphanumeric  (word) character [a-zA-Z0-9_];\n",
    "pattern = re.compile(r\"Mr\\s\\w+\")\n",
    "matches = pattern.finditer(my_string)\n",
    "for match in matches:\n",
    "    print(match)"
   ]
  },
  {
   "cell_type": "code",
   "execution_count": 23,
   "metadata": {},
   "outputs": [
    {
     "name": "stdout",
     "output_type": "stream",
     "text": [
      "<re.Match object; span=(51, 60), match='Mr. Brown'>\n",
      "<re.Match object; span=(70, 75), match='Mr. T'>\n"
     ]
    }
   ],
   "source": [
    "# matching a specific pattern\n",
    "my_string = \"\"\"\n",
    "hello world\n",
    "123\n",
    "2020-05-20\n",
    "Mr Simpson\n",
    "Mrs Simpson\n",
    "Mr. Brown\n",
    "Ms Smith\n",
    "Mr. T\n",
    "\"\"\"\n",
    "# matching a specific pattern look here\n",
    "# \\s : Matches any whitespace character; (space \" \", tab \"\\t\", newline \"\\n\")\n",
    "# \\w : Matches any alphanumeric  (word) character [a-zA-Z0-9_];\n",
    "pattern = re.compile(r\"Mr\\.\\s\\w+\")\n",
    "matches = pattern.finditer(my_string)\n",
    "for match in matches:\n",
    "    print(match)"
   ]
  },
  {
   "cell_type": "code",
   "execution_count": 25,
   "metadata": {},
   "outputs": [
    {
     "name": "stdout",
     "output_type": "stream",
     "text": [
      "<re.Match object; span=(28, 38), match='Mr Simpson'>\n",
      "<re.Match object; span=(51, 60), match='Mr. Brown'>\n",
      "<re.Match object; span=(70, 75), match='Mr. T'>\n"
     ]
    }
   ],
   "source": [
    "# matching a specific pattern\n",
    "my_string = \"\"\"\n",
    "hello world\n",
    "123\n",
    "2020-05-20\n",
    "Mr Simpson\n",
    "Mrs Simpson\n",
    "Mr. Brown\n",
    "Ms Smith\n",
    "Mr. T\n",
    "\"\"\"\n",
    "# matching a specific pattern look here\n",
    "# \\s : Matches any whitespace character; (space \" \", tab \"\\t\", newline \"\\n\")\n",
    "# \\w : Matches any alphanumeric  (word) character [a-zA-Z0-9_];\n",
    "# ? : opthional\n",
    "pattern = re.compile(r\"Mr\\.?\\s\\w+\")\n",
    "matches = pattern.finditer(my_string)\n",
    "for match in matches:\n",
    "    print(match)"
   ]
  },
  {
   "cell_type": "code",
   "execution_count": 27,
   "metadata": {},
   "outputs": [
    {
     "name": "stdout",
     "output_type": "stream",
     "text": [
      "<re.Match object; span=(28, 38), match='Mr Simpson'>\n",
      "<re.Match object; span=(39, 50), match='Mrs Simpson'>\n",
      "<re.Match object; span=(51, 60), match='Mr. Brown'>\n",
      "<re.Match object; span=(61, 69), match='Ms Smith'>\n",
      "<re.Match object; span=(70, 75), match='Mr. T'>\n"
     ]
    }
   ],
   "source": [
    "# matching a specific pattern\n",
    "my_string = \"\"\"\n",
    "hello world\n",
    "123\n",
    "2020-05-20\n",
    "Mr Simpson\n",
    "Mrs Simpson\n",
    "Mr. Brown\n",
    "Ms Smith\n",
    "Mr. T\n",
    "\"\"\"\n",
    "# matching a specific pattern look here\n",
    "# \\s : Matches any whitespace character; (space \" \", tab \"\\t\", newline \"\\n\")\n",
    "# \\w : Matches any alphanumeric  (word) character [a-zA-Z0-9_];\n",
    "# ? : opthional\n",
    "# () : conditioned\n",
    "pattern = re.compile(r\"(Mr|Ms|Mrs)\\.?\\s\\w+\")\n",
    "matches = pattern.finditer(my_string)\n",
    "for match in matches:\n",
    "    print(match)"
   ]
  },
  {
   "cell_type": "code",
   "execution_count": 28,
   "metadata": {},
   "outputs": [
    {
     "name": "stdout",
     "output_type": "stream",
     "text": [
      "<re.Match object; span=(76, 91), match='pythonengineer@'>\n",
      "<re.Match object; span=(101, 117), match='Python-engineer@'>\n",
      "<re.Match object; span=(124, 143), match='python-engineer123@'>\n"
     ]
    }
   ],
   "source": [
    "# matching a specific pattern\n",
    "my_string = \"\"\"\n",
    "hello world\n",
    "123\n",
    "2020-05-20\n",
    "Mr Simpson\n",
    "Mrs Simpson\n",
    "Mr. Brown\n",
    "Ms Smith\n",
    "Mr. T\n",
    "pythonengineer@gmail.com\n",
    "Python-engineer@gmx.de\n",
    "python-engineer123@my-domain.org\n",
    "\"\"\"\n",
    "\n",
    "pattern = re.compile(r\"[a-zA-z0-9-]+@\")\n",
    "matches = pattern.finditer(my_string)\n",
    "for match in matches:\n",
    "    print(match)"
   ]
  },
  {
   "cell_type": "code",
   "execution_count": 29,
   "metadata": {},
   "outputs": [
    {
     "name": "stdout",
     "output_type": "stream",
     "text": [
      "<re.Match object; span=(76, 97), match='pythonengineer@gmail.'>\n",
      "<re.Match object; span=(101, 121), match='Python-engineer@gmx.'>\n",
      "<re.Match object; span=(124, 153), match='python-engineer123@my-domain.'>\n"
     ]
    }
   ],
   "source": [
    "# matching a specific pattern (domain name and dot .)\n",
    "my_string = \"\"\"\n",
    "hello world\n",
    "123\n",
    "2020-05-20\n",
    "Mr Simpson\n",
    "Mrs Simpson\n",
    "Mr. Brown\n",
    "Ms Smith\n",
    "Mr. T\n",
    "pythonengineer@gmail.com\n",
    "Python-engineer@gmx.de\n",
    "python-engineer123@my-domain.org\n",
    "\"\"\"\n",
    "# (domain name and dot .)\n",
    "pattern = re.compile(r\"[a-zA-z0-9-]+@[a-zA-Z-]+.\")\n",
    "matches = pattern.finditer(my_string)\n",
    "for match in matches:\n",
    "    print(match)"
   ]
  },
  {
   "cell_type": "code",
   "execution_count": 30,
   "metadata": {},
   "outputs": [
    {
     "name": "stdout",
     "output_type": "stream",
     "text": [
      "<re.Match object; span=(76, 100), match='pythonengineer@gmail.com'>\n",
      "<re.Match object; span=(101, 123), match='Python-engineer@gmx.de'>\n",
      "<re.Match object; span=(124, 156), match='python-engineer123@my-domain.org'>\n"
     ]
    }
   ],
   "source": [
    "# matching a specific pattern (endings of emails and urls)\n",
    "my_string = \"\"\"\n",
    "hello world\n",
    "123\n",
    "2020-05-20\n",
    "Mr Simpson\n",
    "Mrs Simpson\n",
    "Mr. Brown\n",
    "Ms Smith\n",
    "Mr. T\n",
    "pythonengineer@gmail.com\n",
    "Python-engineer@gmx.de\n",
    "python-engineer123@my-domain.org\n",
    "\"\"\"\n",
    "# (domain name and dot .)\n",
    "pattern = re.compile(r\"[a-zA-z0-9-]+@[a-zA-Z-]+\\.(com|de|org)\")\n",
    "matches = pattern.finditer(my_string)\n",
    "for match in matches:\n",
    "    print(match)"
   ]
  },
  {
   "cell_type": "code",
   "execution_count": 31,
   "metadata": {},
   "outputs": [
    {
     "name": "stdout",
     "output_type": "stream",
     "text": [
      "<re.Match object; span=(76, 100), match='pythonengineer@gmail.com'>\n",
      "<re.Match object; span=(101, 123), match='Python-engineer@gmx.de'>\n",
      "<re.Match object; span=(124, 156), match='python-engineer123@my-domain.org'>\n"
     ]
    }
   ],
   "source": [
    "# matching a specific pattern (endings of emails and urls) another method\n",
    "my_string = \"\"\"\n",
    "hello world\n",
    "123\n",
    "2020-05-20\n",
    "Mr Simpson\n",
    "Mrs Simpson\n",
    "Mr. Brown\n",
    "Ms Smith\n",
    "Mr. T\n",
    "pythonengineer@gmail.com\n",
    "Python-engineer@gmx.de\n",
    "python-engineer123@my-domain.org\n",
    "\"\"\"\n",
    "pattern = re.compile(r\"[a-zA-z0-9-]+@[a-zA-Z-]+\\.[a-zA-Z]+\")\n",
    "matches = pattern.finditer(my_string)\n",
    "for match in matches:\n",
    "    print(match)"
   ]
  },
  {
   "cell_type": "code",
   "execution_count": 32,
   "metadata": {},
   "outputs": [
    {
     "name": "stdout",
     "output_type": "stream",
     "text": [
      "pythonengineer@gmail.com\n",
      "Python-engineer@gmx.de\n",
      "python-engineer123@my-domain.org\n"
     ]
    }
   ],
   "source": [
    "# matching a specific pattern (endings of emails and urls) another method\n",
    "my_string = \"\"\"\n",
    "hello world\n",
    "123\n",
    "2020-05-20\n",
    "Mr Simpson\n",
    "Mrs Simpson\n",
    "Mr. Brown\n",
    "Ms Smith\n",
    "Mr. T\n",
    "pythonengineer@gmail.com\n",
    "Python-engineer@gmx.de\n",
    "python-engineer123@my-domain.org\n",
    "\"\"\"\n",
    "# using group to return the actual string\n",
    "pattern = re.compile(r\"([a-zA-z0-9-]+)@([a-zA-Z-]+)\\.([a-zA-Z]+)\")\n",
    "matches = pattern.finditer(my_string)\n",
    "for match in matches:\n",
    "    print(match.group())"
   ]
  },
  {
   "cell_type": "code",
   "execution_count": 37,
   "metadata": {},
   "outputs": [
    {
     "name": "stdout",
     "output_type": "stream",
     "text": [
      "pythonengineer\n",
      "Python-engineer\n",
      "python-engineer123\n"
     ]
    }
   ],
   "source": [
    "# matching a specific pattern (endings of emails and urls) another method\n",
    "my_string = \"\"\"\n",
    "hello world\n",
    "123\n",
    "2020-05-20\n",
    "Mr Simpson\n",
    "Mrs Simpson\n",
    "Mr. Brown\n",
    "Ms Smith\n",
    "Mr. T\n",
    "pythonengineer@gmail.com\n",
    "Python-engineer@gmx.de\n",
    "python-engineer123@my-domain.org\n",
    "\"\"\"\n",
    "# using group to return the actual string\n",
    "pattern = re.compile(r\"([a-zA-z0-9-]+)@([a-zA-Z-]+)\\.([a-zA-Z]+)\")\n",
    "matches = pattern.finditer(my_string)\n",
    "# choose a group to print\n",
    "for match in matches:\n",
    "    #print(match.group(0))\n",
    "    print(match.group(1))\n",
    "    #print(match.group(2))\n",
    "    #print(match.group(3))"
   ]
  },
  {
   "cell_type": "markdown",
   "metadata": {},
   "source": [
    "# Modification"
   ]
  },
  {
   "cell_type": "code",
   "execution_count": 39,
   "metadata": {},
   "outputs": [
    {
     "name": "stdout",
     "output_type": "stream",
     "text": [
      "['', 'abc456789abc', 'ABC']\n"
     ]
    }
   ],
   "source": [
    "test_string = '123abc456789abc123ABC'\n",
    "\n",
    "# split, sub\n",
    "# using this pattern to be a splitter\n",
    "pattern = re.compile(r\"123\")\n",
    "splitted = pattern.split(test_string)\n",
    "print(splitted)\n"
   ]
  },
  {
   "cell_type": "code",
   "execution_count": 40,
   "metadata": {},
   "outputs": [
    {
     "name": "stdout",
     "output_type": "stream",
     "text": [
      "['123', '456789', '123ABC']\n"
     ]
    }
   ],
   "source": [
    "test_string = '123abc456789abc123ABC'\n",
    "\n",
    "# split, sub\n",
    "# using this pattern to be a splitter\n",
    "pattern = re.compile(r\"abc\")\n",
    "splitted = pattern.split(test_string)\n",
    "print(splitted)\n"
   ]
  },
  {
   "cell_type": "code",
   "execution_count": 41,
   "metadata": {},
   "outputs": [
    {
     "name": "stdout",
     "output_type": "stream",
     "text": [
      "hello planet, you are the best planet\n"
     ]
    }
   ],
   "source": [
    "# sub\n",
    "\n",
    "test_string = 'hello world, you are the best world'\n",
    "\n",
    "pattern = re.compile(r\"world\")\n",
    "# here replace the pattern with the first argument \n",
    "subbed_String = pattern.sub(\"planet\",test_string)\n",
    "print(subbed_String)"
   ]
  },
  {
   "cell_type": "markdown",
   "metadata": {},
   "source": [
    "# Practice"
   ]
  },
  {
   "cell_type": "code",
   "execution_count": 44,
   "metadata": {},
   "outputs": [
    {
     "name": "stdout",
     "output_type": "stream",
     "text": [
      "<re.Match object; span=(77, 97), match='http://www.pyeng.net'>\n"
     ]
    }
   ],
   "source": [
    "urls = \"\"\"\n",
    "hello\n",
    "2020-05-20\n",
    "http://python-engineer.com\n",
    "https://www.python-engineer.com\n",
    "http://www.pyeng.net\n",
    "\"\"\"\n",
    "pattern = re.compile(r\"http://www\\.([a-zA-Z-]+)\\.[a-zA-Z]+\")\n",
    "matches = pattern.finditer(urls)\n",
    "for match in matches:\n",
    "    print(match)"
   ]
  },
  {
   "cell_type": "code",
   "execution_count": 45,
   "metadata": {},
   "outputs": [
    {
     "name": "stdout",
     "output_type": "stream",
     "text": [
      "<re.Match object; span=(18, 44), match='http://python-engineer.com'>\n",
      "<re.Match object; span=(45, 76), match='https://www.python-engineer.com'>\n",
      "<re.Match object; span=(77, 97), match='http://www.pyeng.net'>\n"
     ]
    }
   ],
   "source": [
    "urls = \"\"\"\n",
    "hello\n",
    "2020-05-20\n",
    "http://python-engineer.com\n",
    "https://www.python-engineer.com\n",
    "http://www.pyeng.net\n",
    "\"\"\"\n",
    "pattern = re.compile(r\"https?://(www\\.)?([a-zA-Z-]+)\\.[a-zA-Z]+\")\n",
    "matches = pattern.finditer(urls)\n",
    "for match in matches:\n",
    "    print(match)"
   ]
  },
  {
   "cell_type": "code",
   "execution_count": 50,
   "metadata": {},
   "outputs": [
    {
     "name": "stdout",
     "output_type": "stream",
     "text": [
      "<re.Match object; span=(1, 27), match='http://python-engineer.com'>\n",
      "<re.Match object; span=(28, 59), match='https://www.python-engineer.com'>\n",
      "<re.Match object; span=(60, 80), match='http://www.pyeng.net'>\n",
      "\n",
      "hello\n",
      "hello\n",
      "hello\n",
      "\n"
     ]
    }
   ],
   "source": [
    "urls = \"\"\"\n",
    "http://python-engineer.com\n",
    "https://www.python-engineer.com\n",
    "http://www.pyeng.net\n",
    "\"\"\"\n",
    "pattern = re.compile(r\"https?://(www\\.)?([a-zA-Z-]+)(\\.[a-zA-Z]+)\")\n",
    "matches = pattern.finditer(urls)\n",
    "for match in matches:\n",
    "    print(match)\n",
    "subbed_urls = pattern.sub(\"hello\",urls)\n",
    "print(subbed_urls)"
   ]
  },
  {
   "cell_type": "code",
   "execution_count": 53,
   "metadata": {},
   "outputs": [
    {
     "name": "stdout",
     "output_type": "stream",
     "text": [
      "<re.Match object; span=(1, 27), match='http://python-engineer.com'>\n",
      "<re.Match object; span=(28, 59), match='https://www.python-engineer.com'>\n",
      "<re.Match object; span=(60, 80), match='http://www.pyeng.net'>\n",
      "subbed_urls \n",
      "python-engineer.com\n",
      "python-engineer.com\n",
      "pyeng.net\n",
      "\n"
     ]
    }
   ],
   "source": [
    "urls = \"\"\"\n",
    "http://python-engineer.com\n",
    "https://www.python-engineer.com\n",
    "http://www.pyeng.net\n",
    "\"\"\"\n",
    "pattern = re.compile(r\"https?://(www\\.)?([a-zA-Z-]+)(\\.[a-zA-Z]+)\")\n",
    "matches = pattern.finditer(urls)\n",
    "for match in matches:\n",
    "    print(match)\n",
    "# here we slice the groups \n",
    "# ([a-zA-Z-]+) \\2 group 2\n",
    "# (\\.[a-zA-Z]+) \\3 group 3\n",
    "subbed_urls = pattern.sub(r\"\\2\\3\",urls)\n",
    "print(\"subbed_urls\",subbed_urls)"
   ]
  }
 ],
 "metadata": {
  "kernelspec": {
   "display_name": "ahmed",
   "language": "python",
   "name": "python3"
  },
  "language_info": {
   "codemirror_mode": {
    "name": "ipython",
    "version": 3
   },
   "file_extension": ".py",
   "mimetype": "text/x-python",
   "name": "python",
   "nbconvert_exporter": "python",
   "pygments_lexer": "ipython3",
   "version": "3.12.3"
  }
 },
 "nbformat": 4,
 "nbformat_minor": 2
}
